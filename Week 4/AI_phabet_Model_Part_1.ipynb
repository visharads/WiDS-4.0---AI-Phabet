{
  "cells": [
    {
      "cell_type": "markdown",
      "metadata": {
        "id": "Kgd7KbB_3k9I"
      },
      "source": [
        "# Importing required libraries"
      ]
    },
    {
      "cell_type": "code",
      "execution_count": 1,
      "metadata": {
        "id": "u5S9rCqY3knV"
      },
      "outputs": [],
      "source": [
        "import pandas as pd\n",
        "import numpy as np\n",
        "import matplotlib.pyplot as plt\n",
        "import tensorflow as tf"
      ]
    },
    {
      "cell_type": "markdown",
      "metadata": {
        "id": "Pbo-Jw4Ai0sh"
      },
      "source": [
        "# Loading the data"
      ]
    },
    {
      "cell_type": "code",
      "execution_count": 2,
      "metadata": {
        "colab": {
          "base_uri": "https://localhost:8080/"
        },
        "id": "HpzAXAW6XLNM",
        "outputId": "0bee820b-eaf2-42a2-eeea-fb58c3ef0534"
      },
      "outputs": [
        {
          "name": "stdout",
          "output_type": "stream",
          "text": [
            "Downloading data from https://storage.googleapis.com/tensorflow/tf-keras-datasets/mnist.npz\n",
            "\u001b[1m11490434/11490434\u001b[0m \u001b[32m━━━━━━━━━━━━━━━━━━━━\u001b[0m\u001b[37m\u001b[0m \u001b[1m0s\u001b[0m 0us/step\n"
          ]
        }
      ],
      "source": [
        "# Load the MNIST dataset and preprocess it\n",
        "(X_train, Y_train), (X_test, Y_test) = tf.keras.datasets.mnist.load_data()\n",
        "X_train = X_train.reshape(-1, 784).astype('float32') / 255.0\n",
        "X_test = X_test.reshape(-1, 784).astype('float32') / 255.0\n",
        "Y_train = Y_train.astype('int32')\n",
        "Y_test = Y_test.astype('int32')"
      ]
    },
    {
      "cell_type": "code",
      "execution_count": 3,
      "metadata": {
        "id": "J5T2blV7R2u6"
      },
      "outputs": [],
      "source": [
        "# Split the dataset (X_train & Y_train) into training and validation sets\n",
        "X_val = X_train[:6000, :]# Validation Split (should be 10% of X_train)\n",
        "Y_val = Y_train[:6000]# Validation Split for labels\n",
        "X_train = X_train[6000:, :]# Training Split (remaining 90% of X_train)\n",
        "Y_train = Y_train[6000:]# Training Split for labels"
      ]
    },
    {
      "cell_type": "markdown",
      "metadata": {
        "id": "KAhLr-y7WSjC"
      },
      "source": [
        "Display a random sample from the dataset"
      ]
    },
    {
      "cell_type": "code",
      "execution_count": 4,
      "metadata": {
        "colab": {
          "base_uri": "https://localhost:8080/"
        },
        "id": "0zY-WkAXXU04",
        "outputId": "33b7cbc3-fd2d-4ea4-9eec-e0ac7443c6f6"
      },
      "outputs": [
        {
          "data": {
            "text/plain": [
              "(10000,)"
            ]
          },
          "execution_count": 4,
          "metadata": {},
          "output_type": "execute_result"
        }
      ],
      "source": [
        "Y_test.shape"
      ]
    },
    {
      "cell_type": "code",
      "execution_count": null,
      "metadata": {
        "colab": {
          "base_uri": "https://localhost:8080/",
          "height": 54
        },
        "id": "YOEhGtWsWQpv",
        "outputId": "33c35f5f-136a-4b3d-90c0-20a742d064b8"
      },
      "outputs": [
        {
          "data": {
            "image/png": "[encoded data removed]",
            "text/plain": [
              "<Figure size 640x480 with 1 Axes>"
            ]
          },
          "metadata": {},
          "output_type": "display_data"
        }
      ],
      "source": [
        "# Visualize a sample from X_train (Keep in mind the images are stored as 1x784 and need to be converted to 28x28 in order to display) using a matplotlib heatmap\n",
        "dataSample = X_train[np.random.randint(54000), :].reshape(28, 28)\n",
        "plt.imshow(dataSample)\n",
        "plt.show()"
      ]
    },
    {
      "cell_type": "markdown",
      "metadata": {
        "id": "I-uMVNXQiwTH"
      },
      "source": [
        "# MODEL"
      ]
    },
    {
      "cell_type": "code",
      "execution_count": null,
      "metadata": {
        "colab": {
          "base_uri": "https://localhost:8080/"
        },
        "id": "L7eeoee4R_mu",
        "outputId": "b3f0769a-a8a4-41f5-d96e-3dacfff60ea5"
      },
      "outputs": [
        {
          "name": "stdout",
          "output_type": "stream",
          "text": [
            "Epoch 1\n",
            "\n",
            "Training:                                            |\n",
            "||||||||||||||||||||||||||||||||||||||||||||||||||||||\n",
            "Validating...\n",
            "Accuracy in epoch 0 (Cutoff 99.0%): 37.11666666666667%\n",
            "Average cost: 0.0030406960362669533\n",
            "--------------------------------------------------\n",
            "\n",
            "Epoch 2\n",
            "\n",
            "Training:                                            |\n",
            "||||||||||||||||||||||||||||||||||||||||||||||||||||||\n",
            "Validating...\n",
            "Accuracy in epoch 1 (Cutoff 99.0%): 54.28333333333333%\n",
            "Average cost: 0.001291525118545143\n",
            "--------------------------------------------------\n",
            "\n",
            "Epoch 3\n",
            "\n",
            "Training:                                            |\n",
            "||||||||||||||||||||||||||||||||||||||||||||||||||||||\n",
            "Validating...\n",
            "Accuracy in epoch 2 (Cutoff 99.0%): 62.55%\n",
            "Average cost: 0.0007121298534942011\n",
            "--------------------------------------------------\n",
            "\n",
            "Epoch 4\n",
            "\n",
            "Training:                                            |\n",
            "||||||||||||||||||||||||||||||||||||||||||||||||||||||\n",
            "Validating...\n",
            "Accuracy in epoch 3 (Cutoff 99.0%): 71.2%\n",
            "Average cost: 9.048489478978646e-05\n",
            "--------------------------------------------------\n",
            "\n",
            "Epoch 5\n",
            "\n",
            "Training:                                            |\n",
            "||||||||||||||||||||||||||||||||||||||||||||||||||||||\n",
            "Validating...\n",
            "Accuracy in epoch 4 (Cutoff 99.0%): 77.18333333333334%\n",
            "Average cost: 3.0073484603291443e-05\n",
            "--------------------------------------------------\n",
            "\n",
            "Epoch 6\n",
            "\n",
            "Training:                                            |\n",
            "||||||||||||||||||||||||||||||||||||||||||||||||||||||\n",
            "Validating...\n",
            "Accuracy in epoch 5 (Cutoff 99.0%): 79.9%\n",
            "Average cost: 1.8917753694520455e-05\n",
            "--------------------------------------------------\n",
            "\n",
            "Epoch 7\n",
            "\n",
            "Training:                                            |\n",
            "||||||||||||||||||||||||||||||||||||||||||||||||||||||\n",
            "Validating...\n",
            "Accuracy in epoch 6 (Cutoff 99.0%): 82.56666666666666%\n",
            "Average cost: 3.5125922451365096e-05\n",
            "--------------------------------------------------\n",
            "\n",
            "Epoch 8\n",
            "\n",
            "Training:                                            |\n",
            "||||||||||||||||||||||||||||||||||||||||||||||||||||||\n",
            "Validating...\n",
            "Accuracy in epoch 7 (Cutoff 99.0%): 84.65%\n",
            "Average cost: 2.7075201622128634e-05\n",
            "--------------------------------------------------\n",
            "\n",
            "Epoch 9\n",
            "\n",
            "Training:                                            |\n",
            "||||||||||||||||||||||||||||||||||||||||||||||||||||||\n",
            "Validating...\n",
            "Accuracy in epoch 8 (Cutoff 99.0%): 85.16666666666667%\n",
            "Average cost: 1.1378077477512524e-05\n",
            "--------------------------------------------------\n",
            "\n",
            "Epoch 10\n",
            "\n",
            "Training:                                            |\n",
            "||||||||||||||||||||||||||||||||||||||||||||||||||||||\n",
            "Validating...\n",
            "Accuracy in epoch 9 (Cutoff 99.0%): 86.11666666666666%\n",
            "Average cost: 1.1700615076471253e-05\n",
            "--------------------------------------------------\n",
            "\n",
            "Epoch 11\n",
            "\n",
            "Training:                                            |\n",
            "||||||||||||||||||||||||||||||||||||||||||||||||||||||\n",
            "Validating...\n",
            "Accuracy in epoch 10 (Cutoff 99.0%): 87.0%\n",
            "Average cost: 5.827459527472063e-06\n",
            "--------------------------------------------------\n",
            "\n",
            "Epoch 12\n",
            "\n",
            "Training:                                            |\n",
            "||||||||||||||||||||||||||||||||||||||||||||||||||||||\n",
            "Validating...\n",
            "Accuracy in epoch 11 (Cutoff 99.0%): 86.95%\n",
            "Average cost: 3.7247345057666265e-06\n",
            "--------------------------------------------------\n",
            "\n",
            "Epoch 13\n",
            "\n",
            "Training:                                            |\n",
            "||||||||||||||||||||||||||||||||||||||||||||||||||||||\n",
            "Validating...\n",
            "Accuracy in epoch 12 (Cutoff 99.0%): 87.75%\n",
            "Average cost: 1.1746259286266197e-06\n",
            "--------------------------------------------------\n",
            "\n",
            "Epoch 14\n",
            "\n",
            "Training:                                            |\n",
            "||||||||||||||||||||||||||||||||||||||||||||||||||||||\n",
            "Validating...\n",
            "Accuracy in epoch 13 (Cutoff 99.0%): 88.4%\n",
            "Average cost: 1.7716972831676417e-06\n",
            "--------------------------------------------------\n",
            "\n",
            "Epoch 15\n",
            "\n",
            "Training:                                            |\n",
            "||||||||||||||||||||||||||||||||||||||||||||||||||||||\n",
            "Validating...\n",
            "Accuracy in epoch 14 (Cutoff 99.0%): 88.73333333333333%\n",
            "Average cost: 2.8151251073135306e-06\n",
            "--------------------------------------------------\n",
            "\n",
            "Epoch 16\n",
            "\n",
            "Training:                                            |\n",
            "||||||||||||||||||||||||||||||||||||||||||||||||||||||\n",
            "Validating...\n",
            "Accuracy in epoch 15 (Cutoff 99.0%): 89.43333333333334%\n",
            "Average cost: 1.322731737223546e-06\n",
            "--------------------------------------------------\n",
            "\n",
            "Epoch 17\n",
            "\n",
            "Training:                                            |\n",
            "||||||||||||||||||||||||||||||||||||||||||||||||||||||\n",
            "Validating...\n",
            "Accuracy in epoch 16 (Cutoff 99.0%): 89.73333333333333%\n",
            "Average cost: 1.1396073813226707e-06\n",
            "--------------------------------------------------\n",
            "\n",
            "Epoch 18\n",
            "\n",
            "Training:                                            |\n",
            "||||||||||||||||||||||||||||||||||||||||||||||||||||||\n",
            "Validating...\n",
            "Accuracy in epoch 17 (Cutoff 99.0%): 89.93333333333334%\n",
            "Average cost: 2.0998593960746453e-06\n",
            "--------------------------------------------------\n",
            "\n",
            "Epoch 19\n",
            "\n",
            "Training:                                            |\n",
            "||||||||||||||||||||||||||||||||||||||||||||||||||||||\n",
            "Validating...\n",
            "Accuracy in epoch 18 (Cutoff 99.0%): 90.16666666666666%\n",
            "Average cost: 5.494845271619638e-06\n",
            "--------------------------------------------------\n",
            "\n",
            "Epoch 20\n",
            "\n",
            "Training:                                            |\n",
            "||||||||||||||||||||||||||||||||||||||||||||||||||||||\n",
            "Validating...\n",
            "Accuracy in epoch 19 (Cutoff 99.0%): 89.85%\n",
            "Average cost: 1.821498520732712e-06\n",
            "--------------------------------------------------\n",
            "\n"
          ]
        }
      ],
      "source": [
        "# We'll be making a model with 2 hidden layers with sigmoid activations\n",
        "\n",
        "i = 784 # Input size (no. of pixels = 28*28 = 784)\n",
        "h1 = 196 # Choose a reasonable no. of nodes for 1st hidden layer\n",
        "h2 = 49 # Choose a reasonable no. of nodes for 2nd hidden layer\n",
        "o = 10 # Output size (no. of digits to classify)\n",
        "lr = 0.15 # Choose a reasonable learning rate\n",
        "epochs = 20 # Choose a reasonable no. of epochs\n",
        "\n",
        "# Initialize the weights and biases (Generally, we follow the convention that weights are drawn from a standard normal distribution, while the bias vectors are initialized to zero.)\n",
        "\n",
        "# Initialize W1 W2 W3\n",
        "W1 = np.random.normal(0, 0.1, size = (h1, i))\n",
        "W2 = np.random.normal(0, 0.1, size = (h2, h1))\n",
        "W3 = np.random.normal(0, 0.1, size = (o, h2))\n",
        "\n",
        "# Initialize b1 b2 b3\n",
        "b1 = np.zeros((h1, 1))\n",
        "b2 = np.zeros((h2, 1))\n",
        "b3 = np.zeros((o, 1))\n",
        "\n",
        "# Defining Activation Functions\n",
        "\n",
        "def sigmoid(z) :\n",
        "    return 1/(1 + np.exp(-z))\n",
        "\n",
        "def sigmoidprime(z) :\n",
        "    return ((sigmoid(z))**2)*(np.exp(-z))\n",
        "    # Returns derivative of sigmoid function of z\n",
        "\n",
        "def one_hot(y,bs) :\n",
        "    # One-hot encoding is a method used in machine learning to represent categorical data, such as different classes or categories, as binary vectors.\n",
        "    # In this encoding, each category is assigned a unique binary value, where only one bit is set to 1 (hot), and the rest are set to 0.\n",
        "    # This creates a binary vector with a length equal to the number of categories, and it helps machine learning algorithms better understand and process categorical information.\n",
        "\n",
        "    # Let's consider a simple example with three categories: \"Red,\" \"Blue,\" and \"Green.\" In one-hot encoding:\n",
        "    # \"Red\" might be represented as [1, 0, 0]\n",
        "    # \"Blue\" might be represented as [0, 1, 0]\n",
        "    # \"Green\" might be represented as [0, 0, 1]\n",
        "\n",
        "    # Fill in this function to return the one hot encoded values for digits 0 to 9\n",
        "    onehot = np.zeros((bs, 1))\n",
        "    onehot[y, 0] = 1\n",
        "    return onehot\n",
        "\n",
        "# Before we start with the training loop. Lets create 2 empty lists to store the cost and accuracy values at the end of each epoch\n",
        "cost = []\n",
        "accuracy = []\n",
        "\n",
        "# Training Loop\n",
        "for ep in range(epochs):\n",
        "    c_temp = 0\n",
        "    print(f\"Epoch {ep+1}\")\n",
        "    print(\"\")\n",
        "    print((\"Training:\" + \" \"*44 + \"|\"))\n",
        "    for i in range(len(X_train)):\n",
        "\n",
        "        # Forward Propagation\n",
        "        # Carry out the forward propagation matrices calculations for z1, a1, z2, a2, z3 and y_predicted\n",
        "\n",
        "        inp = X_train[i].reshape(784, 1)\n",
        "        z1 = np.matmul(W1, inp) + b1\n",
        "        a1 = sigmoid(z1)\n",
        "        z2 = np.matmul(W2, a1) + b2\n",
        "        a2 = sigmoid(z2)\n",
        "        z3 = np.matmul(W3, a2) + b3\n",
        "        y_predicted = sigmoid(z3)\n",
        "\n",
        "        # Convert the label of current iteration (Y_train[i]) to one hot encoded vector\n",
        "        y_actual = one_hot(Y_train[i], o)\n",
        "\n",
        "        # Calulate the cost as per your choice of loss function\n",
        "        # Using sum of squares of differences\n",
        "        \n",
        "        c_temp = y_predicted - y_actual\n",
        "        c_temp = np.square(c_temp)\n",
        "        c_temp = np.sum(c_temp)/20\n",
        "\n",
        "        # You can append this loss function value to the cost values list at every 200 iterations or so\n",
        "        if (i%1000 == 999):\n",
        "          print(\"|\", end=\"\")\n",
        "          # print(a1.transpose())\n",
        "          # print(a2.transpose())\n",
        "          # print(y_actual.transpose())\n",
        "          # print(z3.transpose())\n",
        "\n",
        "        # Carry out the back propagation matrices calculations\n",
        "        # del_lk == del_Bk\n",
        "        del_l3 = np.multiply((y_predicted - y_actual), sigmoidprime(z3))\n",
        "        del_l2 = np.multiply(np.matmul(W3.transpose(), del_l3), sigmoidprime(z2))\n",
        "        del_l1 = np.multiply(np.matmul(W2.transpose(), del_l2), sigmoidprime(z1))\n",
        "\n",
        "        del_W3 = np.matmul(del_l3, a2.transpose())\n",
        "        del_W2 = np.matmul(del_l2, a1.transpose())\n",
        "        del_W1 = np.matmul(del_l1, inp.transpose())\n",
        "\n",
        "        # Update the values of W1 W2 W3 b1 b2 b3 as per the backpropagation values\n",
        "        W3 = W3 - del_W3*lr\n",
        "        W2 = W2 - del_W2*lr\n",
        "        W1 = W1 - del_W1*lr\n",
        "        b3 = b3 - del_l3*lr\n",
        "        b2 = b2 - del_l2*lr\n",
        "        b1 = b1 - del_l1*lr\n",
        "\n",
        "        # End of loop (i)\n",
        "\n",
        "    # Carry out forward propagation for the validation set\n",
        "    val = np.full((len(X_val), ), -1)\n",
        "    print(\"\\nValidating...\")\n",
        "    for i in range(len(X_val)):\n",
        "\n",
        "        # Define cutoff\n",
        "        cutoff = 0.99\n",
        "        # Forward Propagation\n",
        "        # Carry out the forward propagation matrices calculations for z1, a1, z2, a2, z3 and y_predicted\n",
        "\n",
        "        inp = X_val[i].reshape(784, 1)\n",
        "        z1 = np.matmul(W1, inp) + b1\n",
        "        a1 = sigmoid(z1)\n",
        "        z2 = np.matmul(W2, a1) + b2\n",
        "        a2 = sigmoid(z2)\n",
        "        z3 = np.matmul(W3, a2) + b3\n",
        "        y_predicted = sigmoid(z3)\n",
        "\n",
        "        # Get the value\n",
        "        if(np.max(y_predicted) >= cutoff):\n",
        "          val[i] = np.argmax(y_predicted)\n",
        "\n",
        "        # End of loop (i)\n",
        "\n",
        "    # Find the accuracy by comparing the model output on validation set with validation set labels\n",
        "    acc_ep = ((np.sum(val == Y_val))/(len(Y_val)))*100\n",
        "    # You can print this accuracy to see your model's performance at the end of each epoch\n",
        "    print(f\"Accuracy in epoch {ep} (Cutoff {cutoff*100}%): {acc_ep}%\")\n",
        "    # Append the accuracy values to the accuracy list\n",
        "    accuracy.append(acc_ep)\n",
        "    # Reflect change in weights & biases\n",
        "    # print(f\"W1: {np.sum(del_W1)}, W2: {np.sum(del_W2)}\")\n",
        "    # print(f\"W3: {np.sum(del_W3)}, b1: {np.sum(del_l1)}\")\n",
        "    # print(f\"b2: {np.sum(del_l2)}, b3: {np.sum(del_l3)}\")\n",
        "    print(f\"Average cost: {c_temp}\")\n",
        "\n",
        "    print(\"-\"*50)\n",
        "    print(\"\")"
      ]
    },
    {
      "cell_type": "markdown",
      "metadata": {
        "id": "wgJ1fxM8ms0O"
      },
      "source": [
        "# Testing the model"
      ]
    },
    {
      "cell_type": "code",
      "execution_count": null,
      "metadata": {
        "id": "OMnx2n5-SGGk"
      },
      "outputs": [],
      "source": [
        "def classify(image):\n",
        "    # Fill in this function to carry out forward propagation on input 'image' and return the predicted values of the trained model\n",
        "    inp = image.reshape(784, 1)\n",
        "    z1 = np.matmul(W1, inp) + b1\n",
        "    a1 = sigmoid(z1)\n",
        "    z2 = np.matmul(W2, a1) + b2\n",
        "    a2 = sigmoid(z2)\n",
        "    z3 = np.matmul(W3, a2) + b3\n",
        "    y_predicted = sigmoid(z3)\n",
        "    return y_predicted.reshape((10, ))"
      ]
    },
    {
      "cell_type": "code",
      "execution_count": null,
      "metadata": {
        "colab": {
          "base_uri": "https://localhost:8080/",
          "height": 878
        },
        "id": "a-hrUv3cSKTA",
        "outputId": "366d340a-bab1-4703-ee2f-93f70c5e6fcc"
      },
      "outputs": [
        {
          "data": {
            "image/png": "[encoded data removed]",
            "text/plain": [
              "<Figure size 640x480 with 1 Axes>"
            ]
          },
          "metadata": {},
          "output_type": "display_data"
        },
        {
          "data": {
            "image/png": "[encoded data removed]",
            "text/plain": [
              "<Figure size 640x480 with 1 Axes>"
            ]
          },
          "metadata": {},
          "output_type": "display_data"
        },
        {
          "name": "stdout",
          "output_type": "stream",
          "text": [
            "Predicted output is 5 with probability 99.99786824604648%\n",
            "Actual output is 5\n"
          ]
        }
      ],
      "source": [
        "# Display an image from the X_test set\n",
        "test = np.random.randint(10000)\n",
        "img = X_test[test, :].reshape(28, 28)\n",
        "plt.imshow(img)\n",
        "plt.show()\n",
        "# Display the model's output for this image utilizing the classify function\n",
        "out = classify(img)\n",
        "plt.bar(np.linspace(0, 9, num = 10), out)\n",
        "plt.show()\n",
        "# You can use np.argmax function to determine the most likely predicted digit according to the model.\n",
        "print(f\"Predicted output is {np.argmax(out)} with probability {np.max(out)*100}%\")\n",
        "print(f\"Actual output is {Y_test[test]}\")"
      ]
    },
    {
      "cell_type": "code",
      "execution_count": null,
      "metadata": {
        "colab": {
          "base_uri": "https://localhost:8080/",
          "height": 430
        },
        "id": "IHt-xvw5LeAK",
        "outputId": "dd652b66-843d-44e2-8ded-397c20958391"
      },
      "outputs": [
        {
          "data": {
            "image/png": "[encoded data removed]",
            "text/plain": [
              "<Figure size 640x480 with 1 Axes>"
            ]
          },
          "metadata": {},
          "output_type": "display_data"
        }
      ],
      "source": [
        "#Weight matrix visualisation for layer 1\n",
        "neuron = 1\n",
        "weight_dist = W1[neuron-1, :].reshape(28, 28)\n",
        "plt.imshow(weight_dist)\n",
        "plt.show()"
      ]
    },
    {
      "cell_type": "markdown",
      "metadata": {
        "id": "zQgpCVDinDaJ"
      },
      "source": [
        "###If you're getting a good accuracy on your model (>85%) export the weights and bias matrices as numpy files, we'll need these later for custom dataset tests"
      ]
    },
    {
      "cell_type": "code",
      "execution_count": null,
      "metadata": {
        "id": "O0_a58YAfARL"
      },
      "outputs": [],
      "source": [
        "# Use np.save function to export the numpy arrays\n",
        "with open('test.npy', 'wb') as f:\n",
        "    np.save(f, W1)\n",
        "    np.save(f, W2)\n",
        "    np.save(f, W3)\n",
        "    np.save(f, b1)\n",
        "    np.save(f, b2)\n",
        "    np.save(f, b3)"
      ]
    }
  ],
  "metadata": {
    "colab": {
      "provenance": []
    },
    "kernelspec": {
      "display_name": "Python 3",
      "name": "python3"
    },
    "language_info": {
      "codemirror_mode": {
        "name": "ipython",
        "version": 3
      },
      "file_extension": ".py",
      "mimetype": "text/x-python",
      "name": "python",
      "nbconvert_exporter": "python",
      "pygments_lexer": "ipython3",
      "version": "3.12.7"
    }
  },
  "nbformat": 4,
  "nbformat_minor": 0
}
